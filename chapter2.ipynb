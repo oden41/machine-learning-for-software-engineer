{
 "cells": [
  {
   "cell_type": "code",
   "execution_count": 7,
   "id": "00692824",
   "metadata": {},
   "outputs": [],
   "source": [
    "import numpy as np\n",
    "import matplotlib.pyplot as plt\n",
    "import pandas as pd\n",
    "from pandas import Series, DataFrame\n",
    "from numpy.random import normal"
   ]
  },
  {
   "cell_type": "code",
   "execution_count": 2,
   "id": "10c11011",
   "metadata": {},
   "outputs": [],
   "source": [
    "N = 10\n",
    "M = [0, 1, 3, 9]"
   ]
  },
  {
   "cell_type": "code",
   "execution_count": 14,
   "id": "cc853792",
   "metadata": {},
   "outputs": [],
   "source": [
    "def create_dataset(num):\n",
    "    dataset = DataFrame(columns=['x', 'y'])\n",
    "    for i in range(num):\n",
    "        x = float(i) / float(num-1) + normal(scale=0.005)\n",
    "        y = np.sin(2 * np.pi * x) + normal(scale=0.5)\n",
    "        dataset = dataset.append(Series([x, y], index=['x', 'y']), ignore_index=True)\n",
    "    return dataset"
   ]
  },
  {
   "cell_type": "code",
   "execution_count": 4,
   "id": "a42143a8",
   "metadata": {},
   "outputs": [],
   "source": [
    "def calc_error(dataset, f):\n",
    "    size = len(dataset)\n",
    "    err = 0.0\n",
    "    for index, line in dataset.iterrows():\n",
    "        x, y = line.x, line.y\n",
    "        err += 1/2 * (y - f(x))**2\n",
    "    return np.sqrt(2 * err / size)"
   ]
  },
  {
   "cell_type": "code",
   "execution_count": 42,
   "id": "13b8b5ab",
   "metadata": {},
   "outputs": [],
   "source": [
    "# directly calc coef with min error\n",
    "def resolve(dataset, m):\n",
    "    t = dataset.y\n",
    "    phi = DataFrame()\n",
    "    for i in range(0, m+1):\n",
    "        p = dataset.x**i\n",
    "        p.name = 'x**%d' % i\n",
    "        phi = pd.concat([phi, p], axis=1)\n",
    "    tmp = np.linalg.inv(np.dot(phi.T, phi))\n",
    "    ws = np.dot(np.dot(tmp, phi.T), t)\n",
    "    \n",
    "    def f(x):\n",
    "        y = 0\n",
    "        for c, w in enumerate(ws):\n",
    "            y += w * (x**c)\n",
    "            #print(f'{c}: {y}')\n",
    "        return y\n",
    "    \n",
    "    return (f, ws)"
   ]
  },
  {
   "cell_type": "code",
   "execution_count": 15,
   "id": "21355fe2",
   "metadata": {},
   "outputs": [
    {
     "data": {
      "text/html": [
       "<div>\n",
       "<style scoped>\n",
       "    .dataframe tbody tr th:only-of-type {\n",
       "        vertical-align: middle;\n",
       "    }\n",
       "\n",
       "    .dataframe tbody tr th {\n",
       "        vertical-align: top;\n",
       "    }\n",
       "\n",
       "    .dataframe thead th {\n",
       "        text-align: right;\n",
       "    }\n",
       "</style>\n",
       "<table border=\"1\" class=\"dataframe\">\n",
       "  <thead>\n",
       "    <tr style=\"text-align: right;\">\n",
       "      <th></th>\n",
       "      <th>x</th>\n",
       "      <th>y</th>\n",
       "    </tr>\n",
       "  </thead>\n",
       "  <tbody>\n",
       "    <tr>\n",
       "      <th>0</th>\n",
       "      <td>0.000603</td>\n",
       "      <td>0.390132</td>\n",
       "    </tr>\n",
       "    <tr>\n",
       "      <th>1</th>\n",
       "      <td>0.102242</td>\n",
       "      <td>0.818284</td>\n",
       "    </tr>\n",
       "    <tr>\n",
       "      <th>2</th>\n",
       "      <td>0.228377</td>\n",
       "      <td>0.667470</td>\n",
       "    </tr>\n",
       "    <tr>\n",
       "      <th>3</th>\n",
       "      <td>0.334783</td>\n",
       "      <td>0.681326</td>\n",
       "    </tr>\n",
       "    <tr>\n",
       "      <th>4</th>\n",
       "      <td>0.438740</td>\n",
       "      <td>0.223842</td>\n",
       "    </tr>\n",
       "    <tr>\n",
       "      <th>5</th>\n",
       "      <td>0.558122</td>\n",
       "      <td>0.146403</td>\n",
       "    </tr>\n",
       "    <tr>\n",
       "      <th>6</th>\n",
       "      <td>0.667125</td>\n",
       "      <td>-1.323398</td>\n",
       "    </tr>\n",
       "    <tr>\n",
       "      <th>7</th>\n",
       "      <td>0.773525</td>\n",
       "      <td>-1.790789</td>\n",
       "    </tr>\n",
       "    <tr>\n",
       "      <th>8</th>\n",
       "      <td>0.889407</td>\n",
       "      <td>-1.746857</td>\n",
       "    </tr>\n",
       "    <tr>\n",
       "      <th>9</th>\n",
       "      <td>1.010991</td>\n",
       "      <td>-0.879451</td>\n",
       "    </tr>\n",
       "  </tbody>\n",
       "</table>\n",
       "</div>"
      ],
      "text/plain": [
       "          x         y\n",
       "0  0.000603  0.390132\n",
       "1  0.102242  0.818284\n",
       "2  0.228377  0.667470\n",
       "3  0.334783  0.681326\n",
       "4  0.438740  0.223842\n",
       "5  0.558122  0.146403\n",
       "6  0.667125 -1.323398\n",
       "7  0.773525 -1.790789\n",
       "8  0.889407 -1.746857\n",
       "9  1.010991 -0.879451"
      ]
     },
     "execution_count": 15,
     "metadata": {},
     "output_type": "execute_result"
    }
   ],
   "source": [
    "train = create_dataset(N)\n",
    "train"
   ]
  },
  {
   "cell_type": "code",
   "execution_count": 16,
   "id": "534a3189",
   "metadata": {},
   "outputs": [
    {
     "data": {
      "text/html": [
       "<div>\n",
       "<style scoped>\n",
       "    .dataframe tbody tr th:only-of-type {\n",
       "        vertical-align: middle;\n",
       "    }\n",
       "\n",
       "    .dataframe tbody tr th {\n",
       "        vertical-align: top;\n",
       "    }\n",
       "\n",
       "    .dataframe thead th {\n",
       "        text-align: right;\n",
       "    }\n",
       "</style>\n",
       "<table border=\"1\" class=\"dataframe\">\n",
       "  <thead>\n",
       "    <tr style=\"text-align: right;\">\n",
       "      <th></th>\n",
       "      <th>x</th>\n",
       "      <th>y</th>\n",
       "    </tr>\n",
       "  </thead>\n",
       "  <tbody>\n",
       "    <tr>\n",
       "      <th>0</th>\n",
       "      <td>0.001193</td>\n",
       "      <td>-0.714126</td>\n",
       "    </tr>\n",
       "    <tr>\n",
       "      <th>1</th>\n",
       "      <td>0.117490</td>\n",
       "      <td>0.978001</td>\n",
       "    </tr>\n",
       "    <tr>\n",
       "      <th>2</th>\n",
       "      <td>0.225781</td>\n",
       "      <td>0.797252</td>\n",
       "    </tr>\n",
       "    <tr>\n",
       "      <th>3</th>\n",
       "      <td>0.323338</td>\n",
       "      <td>0.507436</td>\n",
       "    </tr>\n",
       "    <tr>\n",
       "      <th>4</th>\n",
       "      <td>0.439213</td>\n",
       "      <td>0.521730</td>\n",
       "    </tr>\n",
       "    <tr>\n",
       "      <th>5</th>\n",
       "      <td>0.551757</td>\n",
       "      <td>-0.475908</td>\n",
       "    </tr>\n",
       "    <tr>\n",
       "      <th>6</th>\n",
       "      <td>0.670031</td>\n",
       "      <td>-0.734339</td>\n",
       "    </tr>\n",
       "    <tr>\n",
       "      <th>7</th>\n",
       "      <td>0.773286</td>\n",
       "      <td>-1.057974</td>\n",
       "    </tr>\n",
       "    <tr>\n",
       "      <th>8</th>\n",
       "      <td>0.890261</td>\n",
       "      <td>-1.228016</td>\n",
       "    </tr>\n",
       "    <tr>\n",
       "      <th>9</th>\n",
       "      <td>1.007217</td>\n",
       "      <td>0.379115</td>\n",
       "    </tr>\n",
       "  </tbody>\n",
       "</table>\n",
       "</div>"
      ],
      "text/plain": [
       "          x         y\n",
       "0  0.001193 -0.714126\n",
       "1  0.117490  0.978001\n",
       "2  0.225781  0.797252\n",
       "3  0.323338  0.507436\n",
       "4  0.439213  0.521730\n",
       "5  0.551757 -0.475908\n",
       "6  0.670031 -0.734339\n",
       "7  0.773286 -1.057974\n",
       "8  0.890261 -1.228016\n",
       "9  1.007217  0.379115"
      ]
     },
     "execution_count": 16,
     "metadata": {},
     "output_type": "execute_result"
    }
   ],
   "source": [
    "test = create_dataset(N)\n",
    "test"
   ]
  },
  {
   "cell_type": "code",
   "execution_count": 43,
   "id": "da0abd8d",
   "metadata": {},
   "outputs": [
    {
     "name": "stdout",
     "output_type": "stream",
     "text": [
      "Table of the coef:\n",
      "        M=0       M=1        M=3            M=9\n",
      "0 -0.281304  1.008798   0.241569       0.278789\n",
      "1       NaN -2.578184   8.932354     186.786098\n",
      "2       NaN       NaN -28.786616   -4286.286861\n",
      "3       NaN       NaN  18.478947   39006.883005\n",
      "4       NaN       NaN        NaN -185676.086879\n",
      "5       NaN       NaN        NaN  512560.997258\n",
      "6       NaN       NaN        NaN -849555.322696\n",
      "7       NaN       NaN        NaN  832657.383895\n",
      "8       NaN       NaN        NaN -444240.512169\n",
      "9       NaN       NaN        NaN   99342.606346\n"
     ]
    },
    {
     "data": {
      "image/png": "[encoded data removed]",
      "text/plain": [
       "<Figure size 432x288 with 4 Axes>"
      ]
     },
     "metadata": {
      "needs_background": "light"
     },
     "output_type": "display_data"
    }
   ],
   "source": [
    "df_ws = DataFrame()\n",
    "fig = plt.figure()\n",
    "\n",
    "for i, m in enumerate(M):\n",
    "    f, ws = resolve(train, m)\n",
    "    df_ws = df_ws.append(Series(ws, name=f'M={m}'))\n",
    "    \n",
    "    subplot = fig.add_subplot(2, 2, i+1)\n",
    "    subplot.set_xlim(-0.05, 1.05)\n",
    "    subplot.set_ylim(-2, 2)\n",
    "    subplot.set_title(f'M={m}')\n",
    "    \n",
    "    subplot.scatter(train.x, train.y, marker='o', color='blue')\n",
    "    \n",
    "    linex = np.linspace(0, 1, 101)\n",
    "    liney = np.sin(2*np.pi*linex)\n",
    "    subplot.plot(linex, liney, color='green', linestyle='--')\n",
    "    \n",
    "    est_y = f(linex)\n",
    "    #print(est_y)\n",
    "    subplot.plot(linex, est_y, color='red', label=f'E(RMS)={calc_error(train, f):.2f}')\n",
    "    subplot.legend(loc=1)\n",
    "    \n",
    "print(\"Table of the coef:\")\n",
    "print(df_ws.transpose())"
   ]
  },
  {
   "cell_type": "code",
   "execution_count": null,
   "id": "accbe33e",
   "metadata": {},
   "outputs": [],
   "source": []
  }
 ],
 "metadata": {
  "kernelspec": {
   "display_name": "Python 3",
   "language": "python",
   "name": "python3"
  },
  "language_info": {
   "codemirror_mode": {
    "name": "ipython",
    "version": 3
   },
   "file_extension": ".py",
   "mimetype": "text/x-python",
   "name": "python",
   "nbconvert_exporter": "python",
   "pygments_lexer": "ipython3",
   "version": "3.8.8"
  }
 },
 "nbformat": 4,
 "nbformat_minor": 5
}
