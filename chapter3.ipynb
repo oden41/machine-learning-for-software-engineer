{
 "cells": [
  {
   "cell_type": "code",
   "execution_count": 1,
   "id": "00692824",
   "metadata": {},
   "outputs": [],
   "source": [
    "import numpy as np\n",
    "import matplotlib.pyplot as plt\n",
    "import pandas as pd\n",
    "from pandas import Series, DataFrame\n",
    "from numpy.random import normal"
   ]
  },
  {
   "cell_type": "code",
   "execution_count": 2,
   "id": "10c11011",
   "metadata": {},
   "outputs": [],
   "source": [
    "N = 10\n",
    "M = [0, 1, 3, 9]"
   ]
  },
  {
   "cell_type": "code",
   "execution_count": 3,
   "id": "cc853792",
   "metadata": {},
   "outputs": [],
   "source": [
    "def create_dataset(num):\n",
    "    dataset = DataFrame(columns=['x', 'y'])\n",
    "    for i in range(num):\n",
    "        x = float(i) / float(num-1) + normal(scale=0.005)\n",
    "        y = np.sin(2 * np.pi * x) + normal(scale=0.5)\n",
    "        dataset = dataset.append(Series([x, y], index=['x', 'y']), ignore_index=True)\n",
    "    return dataset"
   ]
  },
  {
   "cell_type": "code",
   "execution_count": 4,
   "id": "caa159ee",
   "metadata": {},
   "outputs": [],
   "source": [
    "def log_likelihood(dataset, f):\n",
    "    dev = 0.0\n",
    "    n = float(len(dataset))\n",
    "    for index, line in dataset.iterrows():\n",
    "        x, y = line.x, line.y\n",
    "        dev += (y - f(x))**2\n",
    "    E_d = dev * 0.5\n",
    "    beta = n / (2 * E_d)\n",
    "    lp = -beta * E_d + 0.5 * n * np.log(0.5 * beta / np.pi)\n",
    "    return lp"
   ]
  },
  {
   "cell_type": "code",
   "execution_count": 5,
   "id": "13b8b5ab",
   "metadata": {},
   "outputs": [],
   "source": [
    "# directly calc coef with min error\n",
    "def resolve(dataset, m):\n",
    "    t = dataset.y\n",
    "    phi = DataFrame()\n",
    "    for i in range(0, m+1):\n",
    "        p = dataset.x**i\n",
    "        p.name = 'x**%d' % i\n",
    "        phi = pd.concat([phi, p], axis=1)\n",
    "    tmp = np.linalg.inv(np.dot(phi.T, phi))\n",
    "    ws = np.dot(np.dot(tmp, phi.T), t)\n",
    "    \n",
    "    def f(x):\n",
    "        y = 0\n",
    "        for c, w in enumerate(ws):\n",
    "            y += w * (x**c)\n",
    "            #print(f'{c}: {y}')\n",
    "        return y\n",
    "    \n",
    "    sigma2 = 0.0\n",
    "    for index, line in dataset.iterrows():\n",
    "        sigma2 += (f(line.x)-line.y)**2\n",
    "    sigma2 /= len(dataset)\n",
    "    \n",
    "    return (f, ws, np.sqrt(sigma2))"
   ]
  },
  {
   "cell_type": "code",
   "execution_count": 6,
   "id": "21355fe2",
   "metadata": {},
   "outputs": [
    {
     "data": {
      "text/html": [
       "<div>\n",
       "<style scoped>\n",
       "    .dataframe tbody tr th:only-of-type {\n",
       "        vertical-align: middle;\n",
       "    }\n",
       "\n",
       "    .dataframe tbody tr th {\n",
       "        vertical-align: top;\n",
       "    }\n",
       "\n",
       "    .dataframe thead th {\n",
       "        text-align: right;\n",
       "    }\n",
       "</style>\n",
       "<table border=\"1\" class=\"dataframe\">\n",
       "  <thead>\n",
       "    <tr style=\"text-align: right;\">\n",
       "      <th></th>\n",
       "      <th>x</th>\n",
       "      <th>y</th>\n",
       "    </tr>\n",
       "  </thead>\n",
       "  <tbody>\n",
       "    <tr>\n",
       "      <th>0</th>\n",
       "      <td>-0.004001</td>\n",
       "      <td>-0.343973</td>\n",
       "    </tr>\n",
       "    <tr>\n",
       "      <th>1</th>\n",
       "      <td>0.112344</td>\n",
       "      <td>0.755002</td>\n",
       "    </tr>\n",
       "    <tr>\n",
       "      <th>2</th>\n",
       "      <td>0.218637</td>\n",
       "      <td>0.211105</td>\n",
       "    </tr>\n",
       "    <tr>\n",
       "      <th>3</th>\n",
       "      <td>0.332644</td>\n",
       "      <td>1.282031</td>\n",
       "    </tr>\n",
       "    <tr>\n",
       "      <th>4</th>\n",
       "      <td>0.447384</td>\n",
       "      <td>0.649128</td>\n",
       "    </tr>\n",
       "    <tr>\n",
       "      <th>5</th>\n",
       "      <td>0.554134</td>\n",
       "      <td>-0.485231</td>\n",
       "    </tr>\n",
       "    <tr>\n",
       "      <th>6</th>\n",
       "      <td>0.667633</td>\n",
       "      <td>-0.328786</td>\n",
       "    </tr>\n",
       "    <tr>\n",
       "      <th>7</th>\n",
       "      <td>0.775476</td>\n",
       "      <td>-1.853290</td>\n",
       "    </tr>\n",
       "    <tr>\n",
       "      <th>8</th>\n",
       "      <td>0.881420</td>\n",
       "      <td>-1.175770</td>\n",
       "    </tr>\n",
       "    <tr>\n",
       "      <th>9</th>\n",
       "      <td>1.014680</td>\n",
       "      <td>0.724114</td>\n",
       "    </tr>\n",
       "  </tbody>\n",
       "</table>\n",
       "</div>"
      ],
      "text/plain": [
       "          x         y\n",
       "0 -0.004001 -0.343973\n",
       "1  0.112344  0.755002\n",
       "2  0.218637  0.211105\n",
       "3  0.332644  1.282031\n",
       "4  0.447384  0.649128\n",
       "5  0.554134 -0.485231\n",
       "6  0.667633 -0.328786\n",
       "7  0.775476 -1.853290\n",
       "8  0.881420 -1.175770\n",
       "9  1.014680  0.724114"
      ]
     },
     "execution_count": 6,
     "metadata": {},
     "output_type": "execute_result"
    }
   ],
   "source": [
    "train = create_dataset(N)\n",
    "train"
   ]
  },
  {
   "cell_type": "code",
   "execution_count": 7,
   "id": "534a3189",
   "metadata": {},
   "outputs": [
    {
     "data": {
      "text/html": [
       "<div>\n",
       "<style scoped>\n",
       "    .dataframe tbody tr th:only-of-type {\n",
       "        vertical-align: middle;\n",
       "    }\n",
       "\n",
       "    .dataframe tbody tr th {\n",
       "        vertical-align: top;\n",
       "    }\n",
       "\n",
       "    .dataframe thead th {\n",
       "        text-align: right;\n",
       "    }\n",
       "</style>\n",
       "<table border=\"1\" class=\"dataframe\">\n",
       "  <thead>\n",
       "    <tr style=\"text-align: right;\">\n",
       "      <th></th>\n",
       "      <th>x</th>\n",
       "      <th>y</th>\n",
       "    </tr>\n",
       "  </thead>\n",
       "  <tbody>\n",
       "    <tr>\n",
       "      <th>0</th>\n",
       "      <td>-0.009235</td>\n",
       "      <td>0.061027</td>\n",
       "    </tr>\n",
       "    <tr>\n",
       "      <th>1</th>\n",
       "      <td>0.106022</td>\n",
       "      <td>0.381110</td>\n",
       "    </tr>\n",
       "    <tr>\n",
       "      <th>2</th>\n",
       "      <td>0.226612</td>\n",
       "      <td>0.449799</td>\n",
       "    </tr>\n",
       "    <tr>\n",
       "      <th>3</th>\n",
       "      <td>0.336024</td>\n",
       "      <td>1.689368</td>\n",
       "    </tr>\n",
       "    <tr>\n",
       "      <th>4</th>\n",
       "      <td>0.437163</td>\n",
       "      <td>0.938149</td>\n",
       "    </tr>\n",
       "    <tr>\n",
       "      <th>5</th>\n",
       "      <td>0.562912</td>\n",
       "      <td>-0.104793</td>\n",
       "    </tr>\n",
       "    <tr>\n",
       "      <th>6</th>\n",
       "      <td>0.660467</td>\n",
       "      <td>-0.717897</td>\n",
       "    </tr>\n",
       "    <tr>\n",
       "      <th>7</th>\n",
       "      <td>0.778717</td>\n",
       "      <td>-1.856780</td>\n",
       "    </tr>\n",
       "    <tr>\n",
       "      <th>8</th>\n",
       "      <td>0.894613</td>\n",
       "      <td>-0.895166</td>\n",
       "    </tr>\n",
       "    <tr>\n",
       "      <th>9</th>\n",
       "      <td>0.995045</td>\n",
       "      <td>0.115062</td>\n",
       "    </tr>\n",
       "  </tbody>\n",
       "</table>\n",
       "</div>"
      ],
      "text/plain": [
       "          x         y\n",
       "0 -0.009235  0.061027\n",
       "1  0.106022  0.381110\n",
       "2  0.226612  0.449799\n",
       "3  0.336024  1.689368\n",
       "4  0.437163  0.938149\n",
       "5  0.562912 -0.104793\n",
       "6  0.660467 -0.717897\n",
       "7  0.778717 -1.856780\n",
       "8  0.894613 -0.895166\n",
       "9  0.995045  0.115062"
      ]
     },
     "execution_count": 7,
     "metadata": {},
     "output_type": "execute_result"
    }
   ],
   "source": [
    "test = create_dataset(N)\n",
    "test"
   ]
  },
  {
   "cell_type": "code",
   "execution_count": 8,
   "id": "da0abd8d",
   "metadata": {},
   "outputs": [
    {
     "name": "stderr",
     "output_type": "stream",
     "text": [
      "<ipython-input-8-9c20d6b2ef3c>:25: UserWarning: Matplotlib is currently using module://ipykernel.pylab.backend_inline, which is a non-GUI backend, so cannot show the figure.\n",
      "  fig.show()\n"
     ]
    },
    {
     "data": {
      "image/png": "[encoded data removed]",
      "text/plain": [
       "<Figure size 432x288 with 4 Axes>"
      ]
     },
     "metadata": {
      "needs_background": "light"
     },
     "output_type": "display_data"
    }
   ],
   "source": [
    "df_ws = DataFrame()\n",
    "fig = plt.figure()\n",
    "\n",
    "for i, m in enumerate(M):\n",
    "    f, ws, sigma = resolve(train, m)\n",
    "    df_ws = df_ws.append(Series(ws, name=f'M={m}'))\n",
    "    \n",
    "    subplot = fig.add_subplot(2, 2, i+1)\n",
    "    subplot.set_xlim(-0.05, 1.05)\n",
    "    subplot.set_ylim(-2, 2)\n",
    "    subplot.set_title(f'M={m}')\n",
    "    \n",
    "    subplot.scatter(train.x, train.y, marker='o', color='blue')\n",
    "    \n",
    "    linex = np.linspace(0, 1, 101)\n",
    "    liney = np.sin(2*np.pi*linex)\n",
    "    subplot.plot(linex, liney, color='green', linestyle='--')\n",
    "    \n",
    "    liney = f(linex)\n",
    "    subplot.plot(linex, liney, color='red', label=f'sigma={sigma:.2f}')\n",
    "    subplot.plot(linex, liney + sigma, color='red', linestyle='--')\n",
    "    subplot.plot(linex, liney - sigma, color='red', linestyle='--')\n",
    "    subplot.legend(loc=1)\n",
    "    \n",
    "fig.show()"
   ]
  },
  {
   "cell_type": "code",
   "execution_count": 9,
   "id": "accbe33e",
   "metadata": {},
   "outputs": [
    {
     "data": {
      "text/html": [
       "<div>\n",
       "<style scoped>\n",
       "    .dataframe tbody tr th:only-of-type {\n",
       "        vertical-align: middle;\n",
       "    }\n",
       "\n",
       "    .dataframe tbody tr th {\n",
       "        vertical-align: top;\n",
       "    }\n",
       "\n",
       "    .dataframe thead th {\n",
       "        text-align: right;\n",
       "    }\n",
       "</style>\n",
       "<table border=\"1\" class=\"dataframe\">\n",
       "  <thead>\n",
       "    <tr style=\"text-align: right;\">\n",
       "      <th></th>\n",
       "      <th>training</th>\n",
       "      <th>test</th>\n",
       "    </tr>\n",
       "  </thead>\n",
       "  <tbody>\n",
       "    <tr>\n",
       "      <th>0</th>\n",
       "      <td>-13.347820</td>\n",
       "      <td>-13.613845</td>\n",
       "    </tr>\n",
       "    <tr>\n",
       "      <th>1</th>\n",
       "      <td>-12.607814</td>\n",
       "      <td>-12.205228</td>\n",
       "    </tr>\n",
       "    <tr>\n",
       "      <th>2</th>\n",
       "      <td>-12.606513</td>\n",
       "      <td>-12.235236</td>\n",
       "    </tr>\n",
       "    <tr>\n",
       "      <th>3</th>\n",
       "      <td>-6.293767</td>\n",
       "      <td>-7.387363</td>\n",
       "    </tr>\n",
       "    <tr>\n",
       "      <th>4</th>\n",
       "      <td>-4.079791</td>\n",
       "      <td>-3.812969</td>\n",
       "    </tr>\n",
       "    <tr>\n",
       "      <th>5</th>\n",
       "      <td>-4.027313</td>\n",
       "      <td>-4.374079</td>\n",
       "    </tr>\n",
       "    <tr>\n",
       "      <th>6</th>\n",
       "      <td>-3.692308</td>\n",
       "      <td>-4.309790</td>\n",
       "    </tr>\n",
       "    <tr>\n",
       "      <th>7</th>\n",
       "      <td>-3.334999</td>\n",
       "      <td>-4.645454</td>\n",
       "    </tr>\n",
       "    <tr>\n",
       "      <th>8</th>\n",
       "      <td>8.408648</td>\n",
       "      <td>-13.721805</td>\n",
       "    </tr>\n",
       "  </tbody>\n",
       "</table>\n",
       "</div>"
      ],
      "text/plain": [
       "    training       test\n",
       "0 -13.347820 -13.613845\n",
       "1 -12.607814 -12.205228\n",
       "2 -12.606513 -12.235236\n",
       "3  -6.293767  -7.387363\n",
       "4  -4.079791  -3.812969\n",
       "5  -4.027313  -4.374079\n",
       "6  -3.692308  -4.309790\n",
       "7  -3.334999  -4.645454\n",
       "8   8.408648 -13.721805"
      ]
     },
     "execution_count": 9,
     "metadata": {},
     "output_type": "execute_result"
    }
   ],
   "source": [
    "df = DataFrame()\n",
    "train_mlh = []\n",
    "test_mlh = []\n",
    "\n",
    "for m in range(0, 9):\n",
    "    f, ws, sigma = resolve(train, m)\n",
    "    #print(sigma)\n",
    "    train_mlh.append(log_likelihood(train, f))\n",
    "    test_mlh.append(log_likelihood(test, f))\n",
    "df = pd.concat([df, DataFrame(train_mlh, columns=['training']), DataFrame(test_mlh, columns=['test'])], axis=1)\n",
    "df"
   ]
  },
  {
   "cell_type": "code",
   "execution_count": 10,
   "id": "daa06a6f",
   "metadata": {},
   "outputs": [
    {
     "data": {
      "image/png": "[encoded data removed]",
      "text/plain": [
       "<Figure size 432x288 with 1 Axes>"
      ]
     },
     "metadata": {
      "needs_background": "light"
     },
     "output_type": "display_data"
    }
   ],
   "source": [
    "df.plot(title=f'Log likelihood for N={N}', grid=True, style=['-', '--'])\n",
    "plt.show()"
   ]
  },
  {
   "cell_type": "code",
   "execution_count": null,
   "id": "4ab53635",
   "metadata": {},
   "outputs": [],
   "source": []
  }
 ],
 "metadata": {
  "kernelspec": {
   "display_name": "Python 3",
   "language": "python",
   "name": "python3"
  },
  "language_info": {
   "codemirror_mode": {
    "name": "ipython",
    "version": 3
   },
   "file_extension": ".py",
   "mimetype": "text/x-python",
   "name": "python",
   "nbconvert_exporter": "python",
   "pygments_lexer": "ipython3",
   "version": "3.8.8"
  }
 },
 "nbformat": 4,
 "nbformat_minor": 5
}
